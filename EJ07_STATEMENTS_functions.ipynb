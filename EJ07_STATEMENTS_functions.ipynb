{
  "cells": [
    {
      "cell_type": "markdown",
      "metadata": {
        "id": "view-in-github",
        "colab_type": "text"
      },
      "source": [
        "<a href=\"https://colab.research.google.com/github/Entidhar83/master_itm/blob/main/EJ07_STATEMENTS_functions.ipynb\" target=\"_parent\"><img src=\"https://colab.research.google.com/assets/colab-badge.svg\" alt=\"Open In Colab\"/></a>"
      ]
    },
    {
      "cell_type": "markdown",
      "metadata": {
        "id": "kHgkUtRnC_YW"
      },
      "source": [
        "## Working with functions"
      ]
    },
    {
      "cell_type": "markdown",
      "metadata": {
        "id": "8xAzU-4mC_YZ"
      },
      "source": [
        "Create a function that receives a list of numeric values (positive and negative) and returns a second list of values greater than zero.\n",
        "with the values greater than zero"
      ]
    },
    {
      "cell_type": "markdown",
      "source": [],
      "metadata": {
        "id": "0L5zWnroO2Jh"
      }
    },
    {
      "cell_type": "code",
      "execution_count": 13,
      "metadata": {
        "colab": {
          "base_uri": "https://localhost:8080/"
        },
        "id": "Nu8ZcFALC_Ya",
        "outputId": "fcb2e84b-9ee3-453f-ebf3-2c650866f3a2"
      },
      "outputs": [
        {
          "output_type": "execute_result",
          "data": {
            "text/plain": [
              "[1, 2, 3, 5]"
            ]
          },
          "metadata": {},
          "execution_count": 13
        }
      ],
      "source": [
        "lis1 =[1,-1,2,3,-3,5]\n",
        "lis2=[]\n",
        "for val in lis1:\n",
        "  if val>=0:\n",
        "     lis2.append(val)\n",
        "lis2.sort()\n",
        "lis2\n"
      ]
    },
    {
      "cell_type": "code",
      "source": [
        "def positive_value(v_lis):\n",
        "  lis2=[]\n",
        "  for val in v_lis:\n",
        "    if val>=0:\n",
        "     lis2.append(val)\n",
        "  lis2.sort()\n",
        "  return lis2\n",
        "lis1=[1,2,-3,-6,8,7]\n",
        "positive_value(lis1)\n",
        "print (positive_value(lis1))\n"
      ],
      "metadata": {
        "colab": {
          "base_uri": "https://localhost:8080/"
        },
        "id": "nn2X3kv-O-6Z",
        "outputId": "6953ea38-ef27-4cc1-935c-c527dd118363"
      },
      "execution_count": 18,
      "outputs": [
        {
          "output_type": "stream",
          "name": "stdout",
          "text": [
            "[1, 2, 7, 8]\n"
          ]
        }
      ]
    },
    {
      "cell_type": "markdown",
      "source": [],
      "metadata": {
        "id": "Kb8iwmcRO665"
      }
    },
    {
      "cell_type": "code",
      "execution_count": 12,
      "metadata": {
        "id": "ZN9reKY7C_Yb"
      },
      "outputs": [],
      "source": []
    },
    {
      "cell_type": "markdown",
      "metadata": {
        "id": "KawqqVJsC_Yb"
      },
      "source": [
        "Create a function that receives a dictionary like the following:\n",
        "customer = {'cod_customer': 'A100', 'contract_type': 'A', 'invoice': 50}\n",
        "\n",
        "The contract_type field can take the values; 'A', 'B' or 'C' and the invoice is an integer greater than zero.\n",
        "The function must validate that if the contract_type is 'A' the invoice cannot be greater than 50.\n",
        "If the validation is true, return True, otherwise False (contract_type is 'A' and invoice > 50)."
      ]
    },
    {
      "cell_type": "code",
      "execution_count": 12,
      "metadata": {
        "id": "0y0eQVv5C_Yc"
      },
      "outputs": [],
      "source": []
    },
    {
      "cell_type": "code",
      "execution_count": 12,
      "metadata": {
        "id": "1PqpXg0EC_Yc"
      },
      "outputs": [],
      "source": []
    },
    {
      "cell_type": "markdown",
      "metadata": {
        "id": "Z1QJd0WKC_Yc"
      },
      "source": [
        "Create a function to validate with the above function the following list:\n",
        "customers = [   \n",
        "{'cod_customer': 'A100', 'contract_type': 'A', 'invoice': 51},  \n",
        "{'cod_customer': 'A100', 'contract_type': 'A', 'invoice': 22},  \n",
        "{'cod_customer': 'A100', 'contract_type': 'B', 'invoice': 71},  \n",
        "{'cod_customer': 'A100', 'contract_type': 'C', 'invoice': 51},  \n",
        "{'cod_customer': 'A100', 'contract_type': 'A', 'invoice': 61}  \n",
        "   ]   \n",
        "The result of each validation add it to each dictionary in a field named 'validation'."
      ]
    },
    {
      "cell_type": "code",
      "execution_count": 12,
      "metadata": {
        "id": "OEBqxEmDC_Yd"
      },
      "outputs": [],
      "source": []
    },
    {
      "cell_type": "code",
      "execution_count": 12,
      "metadata": {
        "id": "KhH-R3KfC_Yd"
      },
      "outputs": [],
      "source": []
    },
    {
      "cell_type": "code",
      "execution_count": 12,
      "metadata": {
        "id": "_pANrADNC_Ye"
      },
      "outputs": [],
      "source": []
    },
    {
      "cell_type": "code",
      "execution_count": 12,
      "metadata": {
        "id": "vqCJKV23C_Ye"
      },
      "outputs": [],
      "source": []
    }
  ],
  "metadata": {
    "kernelspec": {
      "display_name": "Python 3 (ipykernel)",
      "language": "python",
      "name": "python3"
    },
    "language_info": {
      "codemirror_mode": {
        "name": "ipython",
        "version": 3
      },
      "file_extension": ".py",
      "mimetype": "text/x-python",
      "name": "python",
      "nbconvert_exporter": "python",
      "pygments_lexer": "ipython3",
      "version": "3.10.9"
    },
    "colab": {
      "provenance": [],
      "include_colab_link": true
    }
  },
  "nbformat": 4,
  "nbformat_minor": 0
}